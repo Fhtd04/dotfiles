{
  "nbformat": 4,
  "nbformat_minor": 0,
  "metadata": {
    "celltoolbar": "Create Assignment",
    "kernelspec": {
      "display_name": "Python 3",
      "language": "python",
      "name": "python3"
    },
    "language_info": {
      "codemirror_mode": {
        "name": "ipython",
        "version": 3
      },
      "file_extension": ".py",
      "mimetype": "text/x-python",
      "name": "python",
      "nbconvert_exporter": "python",
      "pygments_lexer": "ipython3",
      "version": "3.6.10"
    },
    "colab": {
      "name": "Aula5_Ex03.ipynb",
      "provenance": [],
      "include_colab_link": true
    }
  },
  "cells": [
    {
      "cell_type": "markdown",
      "metadata": {
        "id": "view-in-github",
        "colab_type": "text"
      },
      "source": [
        "<a href=\"https://colab.research.google.com/github/Fhtd04/dotfiles/blob/master/Aula5_Ex03.ipynb\" target=\"_parent\"><img src=\"https://colab.research.google.com/assets/colab-badge.svg\" alt=\"Open In Colab\"/></a>"
      ]
    },
    {
      "cell_type": "markdown",
      "metadata": {
        "id": "IsAvq-UajbBl"
      },
      "source": [
        "# Aula 5 - Exercícios - Gráficos\n",
        "### Consulta a internet (Google, Stackoverflow e etc) liberada!!"
      ]
    },
    {
      "cell_type": "code",
      "metadata": {
        "id": "yKc-bW6MjbBo"
      },
      "source": [
        "# Importe a biblioteca pandas\n",
        "import pandas as pd\n",
        "import seaborn as sns\n",
        "sns.set() # Ajusta valor padrão de tema, escala e paleta de cor\n"
      ],
      "execution_count": 2,
      "outputs": []
    },
    {
      "cell_type": "markdown",
      "metadata": {
        "id": "H9KOvbyajbB8"
      },
      "source": [
        "### 5.3 Plote um gráfico boxplot do dataset tips como o da figura a seguir.\n"
      ]
    },
    {
      "cell_type": "markdown",
      "metadata": {
        "id": "Ol1NCL7njbB-"
      },
      "source": [
        "![5.1_boxplot_tips.png](attachment:5.1_boxplot_tips.png)"
      ]
    },
    {
      "cell_type": "markdown",
      "metadata": {
        "id": "MAgoUkTdjbCB"
      },
      "source": [
        "#### Sem dicas."
      ]
    },
    {
      "cell_type": "code",
      "metadata": {
        "id": "f3VOrE0TqGqT"
      },
      "source": [
        "import matplotlib.pyplot as plt\n",
        "plt.style.use('classic')\n",
        "%matplotlib inline\n",
        "import numpy as np\n"
      ],
      "execution_count": 27,
      "outputs": []
    },
    {
      "cell_type": "code",
      "metadata": {
        "nbgrader": {
          "grade": true,
          "grade_id": "cell-a60691c9ae84528b",
          "locked": false,
          "points": 1,
          "schema_version": 3,
          "solution": true,
          "task": false
        },
        "id": "m77M5pGHjbCF",
        "outputId": "5fd801ff-c2ec-4b65-8ac6-25346315dd2a",
        "colab": {
          "base_uri": "https://localhost:8080/",
          "height": 324
        }
      },
      "source": [
        "# Plote seu gráfico aqui\n",
        "tips = sns.load_dataset(\"tips\")\n",
        "sns.set(font_scale=1.2) \n",
        "tips = sns.catplot(x=\"day\", y=\"total_bill\", hue=\"smoker\",\n",
        "                height=4, aspect=2,\n",
        "                kind=\"box\", data=tips);\n",
        "#tips.set(ylim=(0, 60))\n",
        "plt.legend(loc='upper left', fancybox=True, title=\"smoker\")                \n",
        "tips\n"
      ],
      "execution_count": 78,
      "outputs": [
        {
          "output_type": "execute_result",
          "data": {
            "text/plain": [
              "<seaborn.axisgrid.FacetGrid at 0x7f893385ce48>"
            ]
          },
          "metadata": {
            "tags": []
          },
          "execution_count": 78
        },
        {
          "output_type": "display_data",
          "data": {
            "image/png": "[encoded data removed]",
            "text/plain": [
              "<Figure size 644.895x288 with 1 Axes>"
            ]
          },
          "metadata": {
            "tags": []
          }
        }
      ]
    },
    {
      "cell_type": "code",
      "metadata": {
        "id": "9Fi8iDAxkeFD"
      },
      "source": [
        ""
      ],
      "execution_count": null,
      "outputs": []
    }
  ]
}